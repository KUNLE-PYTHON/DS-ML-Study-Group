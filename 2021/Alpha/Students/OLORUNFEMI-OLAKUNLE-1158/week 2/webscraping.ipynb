{
 "cells": [
  {
   "cell_type": "code",
   "execution_count": 278,
   "metadata": {},
   "outputs": [],
   "source": [
    "#import neccessary libraries\n",
    "\n",
    "import pandas as pd\n",
    "import requests\n",
    "from bs4 import BeautifulSoup"
   ]
  },
  {
   "cell_type": "code",
   "execution_count": 279,
   "metadata": {},
   "outputs": [],
   "source": [
    "WEBSITE = 'https://books.toscrape.com/catalogue/page-{}.html'\n",
    "IMAGE_URLS = 'http://books.toscrape.com/{}'\n"
   ]
  },
  {
   "cell_type": "code",
   "execution_count": 315,
   "metadata": {},
   "outputs": [],
   "source": [
    "valid_pages = True\n",
    "pages = 1\n",
    "name,image,price,rating = [],[],[],[]\n",
    "while pages<=50:\n",
    "    \n",
    "    res = requests.get(WEBSITE.format(pages))\n",
    "    \n",
    "    if res.status_code != 200:\n",
    "        valid_pages = False \n",
    "    soup = BeautifulSoup(res.text,'lxml')\n",
    "    books = soup.select('.product_pod')\n",
    "    \n",
    "    for i in books:\n",
    "        name.append(i.select('a')[1]['title'])\n",
    "        image.append(IMAGE_URLS.format(i.select('img')[0]['src']))\n",
    "        price.append(i.select('.price_color')[0].text.encode('ascii','ignore').decode())\n",
    "        rating.append(' '.join(i.select('p')[0]['class']))\n",
    "    \n",
    "    pages += 1\n",
    "   \n",
    "   \n",
    "        \n",
    "    \n",
    "    "
   ]
  },
  {
   "cell_type": "code",
   "execution_count": null,
   "metadata": {
    "scrolled": true
   },
   "outputs": [],
   "source": []
  },
  {
   "cell_type": "code",
   "execution_count": 321,
   "metadata": {},
   "outputs": [],
   "source": [
    "df = pd.DataFrame(list(zip(name,image,price,rating)),columns = ['Name','Image_Url','Price(pounds)','Rating'])"
   ]
  },
  {
   "cell_type": "code",
   "execution_count": 322,
   "metadata": {},
   "outputs": [
    {
     "data": {
      "text/html": [
       "<div>\n",
       "<style scoped>\n",
       "    .dataframe tbody tr th:only-of-type {\n",
       "        vertical-align: middle;\n",
       "    }\n",
       "\n",
       "    .dataframe tbody tr th {\n",
       "        vertical-align: top;\n",
       "    }\n",
       "\n",
       "    .dataframe thead th {\n",
       "        text-align: right;\n",
       "    }\n",
       "</style>\n",
       "<table border=\"1\" class=\"dataframe\">\n",
       "  <thead>\n",
       "    <tr style=\"text-align: right;\">\n",
       "      <th></th>\n",
       "      <th>Name</th>\n",
       "      <th>Image_Url</th>\n",
       "      <th>Price(pounds)</th>\n",
       "      <th>Rating</th>\n",
       "    </tr>\n",
       "  </thead>\n",
       "  <tbody>\n",
       "    <tr>\n",
       "      <th>0</th>\n",
       "      <td>A Light in the Attic</td>\n",
       "      <td>http://books.toscrape.com/../media/cache/2c/da...</td>\n",
       "      <td>51.77</td>\n",
       "      <td>star-rating Three</td>\n",
       "    </tr>\n",
       "    <tr>\n",
       "      <th>1</th>\n",
       "      <td>Tipping the Velvet</td>\n",
       "      <td>http://books.toscrape.com/../media/cache/26/0c...</td>\n",
       "      <td>53.74</td>\n",
       "      <td>star-rating One</td>\n",
       "    </tr>\n",
       "    <tr>\n",
       "      <th>2</th>\n",
       "      <td>Soumission</td>\n",
       "      <td>http://books.toscrape.com/../media/cache/3e/ef...</td>\n",
       "      <td>50.10</td>\n",
       "      <td>star-rating One</td>\n",
       "    </tr>\n",
       "    <tr>\n",
       "      <th>3</th>\n",
       "      <td>Sharp Objects</td>\n",
       "      <td>http://books.toscrape.com/../media/cache/32/51...</td>\n",
       "      <td>47.82</td>\n",
       "      <td>star-rating Four</td>\n",
       "    </tr>\n",
       "    <tr>\n",
       "      <th>4</th>\n",
       "      <td>Sapiens: A Brief History of Humankind</td>\n",
       "      <td>http://books.toscrape.com/../media/cache/be/a5...</td>\n",
       "      <td>54.23</td>\n",
       "      <td>star-rating Five</td>\n",
       "    </tr>\n",
       "  </tbody>\n",
       "</table>\n",
       "</div>"
      ],
      "text/plain": [
       "                                    Name  \\\n",
       "0                   A Light in the Attic   \n",
       "1                     Tipping the Velvet   \n",
       "2                             Soumission   \n",
       "3                          Sharp Objects   \n",
       "4  Sapiens: A Brief History of Humankind   \n",
       "\n",
       "                                           Image_Url Price(pounds)  \\\n",
       "0  http://books.toscrape.com/../media/cache/2c/da...         51.77   \n",
       "1  http://books.toscrape.com/../media/cache/26/0c...         53.74   \n",
       "2  http://books.toscrape.com/../media/cache/3e/ef...         50.10   \n",
       "3  http://books.toscrape.com/../media/cache/32/51...         47.82   \n",
       "4  http://books.toscrape.com/../media/cache/be/a5...         54.23   \n",
       "\n",
       "              Rating  \n",
       "0  star-rating Three  \n",
       "1    star-rating One  \n",
       "2    star-rating One  \n",
       "3   star-rating Four  \n",
       "4   star-rating Five  "
      ]
     },
     "execution_count": 322,
     "metadata": {},
     "output_type": "execute_result"
    }
   ],
   "source": [
    "df.head()"
   ]
  },
  {
   "cell_type": "code",
   "execution_count": 323,
   "metadata": {},
   "outputs": [],
   "source": [
   ]
  },
  {
   "cell_type": "code",
   "execution_count": null,
   "metadata": {},
   "outputs": [],
   "source": []
  },
  {
   "cell_type": "code",
   "execution_count": null,
   "metadata": {},
   "outputs": [],
   "source": []
  },
  {
   "cell_type": "code",
   "execution_count": null,
   "metadata": {},
   "outputs": [],
   "source": []
  },
  {
   "cell_type": "code",
   "execution_count": null,
   "metadata": {},
   "outputs": [],
   "source": []
  },
  {
   "cell_type": "code",
   "execution_count": null,
   "metadata": {},
   "outputs": [],
   "source": []
  },
  {
   "cell_type": "code",
   "execution_count": null,
   "metadata": {},
   "outputs": [],
   "source": []
  },
  {
   "cell_type": "code",
   "execution_count": null,
   "metadata": {},
   "outputs": [],
   "source": [
    " "
   ]
  },
  {
   "cell_type": "code",
   "execution_count": null,
   "metadata": {},
   "outputs": [],
   "source": []
  },
  {
   "cell_type": "code",
   "execution_count": null,
   "metadata": {},
   "outputs": [],
   "source": []
  },
  {
   "cell_type": "code",
   "execution_count": null,
   "metadata": {},
   "outputs": [],
   "source": []
  }
 ],
 "metadata": {
  "kernelspec": {
   "display_name": "Python 3",
   "language": "python",
   "name": "python3"
  },
  "language_info": {
   "codemirror_mode": {
    "name": "ipython",
    "version": 3
   },
   "file_extension": ".py",
   "mimetype": "text/x-python",
   "name": "python",
   "nbconvert_exporter": "python",
   "pygments_lexer": "ipython3",
   "version": "3.8.3"
  }
 },
 "nbformat": 4,
 "nbformat_minor": 4
}
